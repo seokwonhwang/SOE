{
  "nbformat": 4,
  "nbformat_minor": 0,
  "metadata": {
    "colab": {
      "provenance": [],
      "collapsed_sections": [],
      "include_colab_link": true
    },
    "kernelspec": {
      "name": "python3",
      "display_name": "Python 3"
    },
    "language_info": {
      "name": "python"
    },
    "accelerator": "GPU"
  },
  "cells": [
    {
      "cell_type": "markdown",
      "metadata": {
        "id": "view-in-github",
        "colab_type": "text"
      },
      "source": [
        "<a href=\"https://colab.research.google.com/github/seokwonhwang/SOE/blob/master/Lecture26_Intro_to_pytorch_geometric.ipynb\" target=\"_parent\"><img src=\"https://colab.research.google.com/assets/colab-badge.svg\" alt=\"Open In Colab\"/></a>"
      ]
    },
    {
      "cell_type": "markdown",
      "metadata": {
        "id": "CWwikitikOKi"
      },
      "source": [
        "# pytorch_geometric이란?\n",
        "----\n",
        "pytorch를 기반으로 하여 graph neural network을 쉽게 만들수 있게 도와주는 라이브러리이다. \n",
        "\n",
        "Stanford 대학의 연구자들이 주로 만들었으며 비슷한 것으로 dgl 이라는 라이브러리도 있다. \n",
        "\n",
        "ref: https://pytorch-geometric.readthedocs.io/en/latest/index.html\n",
        "\n",
        "이번 강의에서는 GPU를 이용한 hardware를 사용해보도록 하겠다. \n",
        "\n",
        "2021년 11월 기준의 설치 방법이나 버젼이 변화하면서 설치 방법에도 변동이 있을 수 있다는 점을 기억해주시길 바랍니다. \n",
        "\n"
      ]
    },
    {
      "cell_type": "code",
      "metadata": {
        "id": "Ym5xPZOzkELD"
      },
      "source": [
        "# Install required packages.\n",
        "!pip install -q torch-scatter -f https://data.pyg.org/whl/torch-1.10.0+cu113.html\n",
        "!pip install -q torch-sparse -f https://data.pyg.org/whl/torch-1.10.0+cu113.html\n",
        "!pip install -q git+https://github.com/pyg-team/pytorch_geometric.git\n",
        "\n",
        "# Helper function for visualization.\n",
        "%matplotlib inline\n",
        "import torch\n",
        "import networkx as nx\n",
        "import matplotlib.pyplot as plt"
      ],
      "execution_count": null,
      "outputs": []
    },
    {
      "cell_type": "markdown",
      "metadata": {
        "id": "fc3-W_ZYkvNH"
      },
      "source": [
        "## Data handling of a graph\n",
        "\n",
        "그래프는 노드사이의 관계 (링크, edge)를 모델링 하기 위해서 사용된다.\n",
        "\n",
        "pytorch_geometric (줄여서 PyG)에서는 하나의 그래프는 **torch_geometric.data.Data** 클래스로 표현된다. \n",
        "\n",
        "**torch_geometric.data.Data**는 다음의 속성을 가지고 있다. \n",
        "\n",
        "모든 속성은 optional 하다. \n",
        "\n",
        "* **data.x**: 노드 특성 행렬, 다음의 차원을 가진다.[노드 개수, 노드 특성 개수]\n",
        "\n",
        "* **data.edge_index**: 그래프의 연결 상태, [2, 연결 개수] and type torch.long\n",
        "\n",
        "* **data.y**: 학습시키고자 하는 데이터. 여러가지 형태가 가능하다. 예를 들어, 각 노드별 예측을 수행하고 싶으면 [노드 개수, *] or 그래프 단위의 예측을 수행하고자 하면 [1, *]\n",
        "\n",
        "* **data.edge_attr**: Edge의 특성 행렬 [연결의 개수, 연결 특성 개수]\n",
        "\n",
        "* **data.pos**: 노드의 위치 [노드 개수, 차원]\n"
      ]
    },
    {
      "cell_type": "markdown",
      "metadata": {
        "id": "CFULUMJMlwok"
      },
      "source": [
        "A graph is used to model pairwise relations (edges) between objects (nodes). A single graph in PyG is described by an instance of torch_geometric.data.Data, which holds the following attributes by default:\n",
        "\n",
        "* **data.x**: Node feature matrix with shape [num_nodes, num_node_features]\n",
        "\n",
        "* **data.edge_index**: Graph connectivity in COO format with shape [2, num_edges] and type torch.long\n",
        "\n",
        "* **data.edge_attr**: Edge feature matrix with shape [num_edges, num_edge_features]\n",
        "\n",
        "* **data.y**: Target to train against (may have arbitrary shape), e.g., node-level targets of shape [num_nodes, *] or graph-level targets of shape [1, *]\n",
        "\n",
        "* **data.pos**: Node position matrix with shape [num_nodes, num_dimensions]\n",
        "\n",
        "None of these attributes are required. In fact, the Data object is not even restricted to these attributes. We can, e.g., extend it by data.face to save the connectivity of triangles from a 3D mesh in a tensor with shape [3, num_faces] and type torch.long."
      ]
    },
    {
      "cell_type": "code",
      "metadata": {
        "colab": {
          "base_uri": "https://localhost:8080/"
        },
        "id": "9S5Rbi5dkMne",
        "outputId": "f2352bf3-9a49-458c-d47b-b686b2a0b365"
      },
      "source": [
        "import torch\n",
        "from torch_geometric.data import Data\n",
        "\n",
        "connectivity = torch.tensor([[0, 1, 1, 2],\n",
        "                             [1, 0, 2, 1]], dtype=torch.long) # 2 X 4 텐서\n",
        "\n",
        "node_feature = torch.tensor([[-1], [0], [1]], dtype=torch.float) # 1 X 3 텐서\n",
        "\n",
        "data = Data(x = node_feature, edge_index = connectivity)\n",
        "print(data)"
      ],
      "execution_count": null,
      "outputs": [
        {
          "output_type": "stream",
          "name": "stdout",
          "text": [
            "Data(x=[3, 1], edge_index=[2, 4])\n"
          ]
        }
      ]
    },
    {
      "cell_type": "markdown",
      "metadata": {
        "id": "kp9z_lgbn72t"
      },
      "source": [
        "위에서 만든 그래프는 단순한 unweighted/undirected 그래프이며 다음의 그림과 같다. \n",
        "\n",
        "각 노드는 1개의 특성만을 가진다. \n",
        "\n",
        "----\n",
        "\n",
        "We show a simple example of an unweighted and undirected graph with three nodes and four edges. \n",
        "\n",
        "Each node contains exactly one feature:\n",
        "\n",
        "<img src=\"https://pytorch-geometric.readthedocs.io/en/latest/_images/graph.svg\" width=\"400\"/>\n"
      ]
    },
    {
      "cell_type": "markdown",
      "metadata": {
        "id": "II6keNCQocLR"
      },
      "source": [
        "연결의 인덱스는, source와 target을 정의하는 텐서, index 튜플의 리스트가 아니다. \n",
        "\n",
        "**모양에 주의하자. 2 X 연결 (edge) 개수**의 형태를 띄고있다. \n",
        "\n",
        "만일 (source, target)의 형태의 리스트로 입력하고 싶다면 transpose 와 contiguous 메소드를 다음의 예제와 같이 call 해야 한다. \n",
        "\n",
        "----\n",
        "\n",
        "Note that edge_index, i.e. the tensor defining the source and target nodes of all edges, is not a list of index tuples. \n",
        "\n",
        "If you want to write your indices this way, you should transpose and call contiguous on it before passing them to the data constructor:\n",
        "\n"
      ]
    },
    {
      "cell_type": "code",
      "metadata": {
        "colab": {
          "base_uri": "https://localhost:8080/"
        },
        "id": "N5IEEQJmob8P",
        "outputId": "d682c46b-9691-4eef-997b-3e45ebe1dc51"
      },
      "source": [
        "from torch_geometric.data import Data\n",
        "\n",
        "edge_index = torch.tensor([[0, 1],\n",
        "                           [1, 0],\n",
        "                           [1, 2],\n",
        "                           [2, 1]], dtype=torch.long) # 4 X 2 : 연결 개수 X 2 의 크기를 가지는 텐서. \n",
        "\n",
        "x = torch.tensor([[-1], [0], [1]], dtype=torch.float)\n",
        "\n",
        "data = Data(x=x, edge_index=edge_index.t().contiguous())\n",
        "\n",
        "print(data)\n",
        "print(data.num_edges)\n",
        "print(data.is_undirected())\n",
        "print(data.is_directed())"
      ],
      "execution_count": null,
      "outputs": [
        {
          "output_type": "stream",
          "name": "stdout",
          "text": [
            "Data(x=[3, 1], edge_index=[2, 4])\n",
            "4\n",
            "True\n",
            "False\n"
          ]
        }
      ]
    },
    {
      "cell_type": "markdown",
      "metadata": {
        "id": "zhGqmLKzqANk"
      },
      "source": [
        "비록 그래프가 2개의 연결밖에 없지만 양방향을 모두 고려하기 위해서 4개의 인덱스를 지정해 주었다. \n",
        "\n",
        "만일 index가 하나가 빠진다면 방향성이 있는 그래프 (directed graph)로 인식된다. \n",
        "\n",
        "----\n",
        "\n",
        "Although the graph has only two edges, we need to define **four index tuples to account for both directions of a edge**.\n",
        "\n",
        "If a pair of indices are not indicated, the graph is considered as **directed**.\n"
      ]
    },
    {
      "cell_type": "code",
      "metadata": {
        "id": "Aek5QK6OkqVb",
        "colab": {
          "base_uri": "https://localhost:8080/"
        },
        "outputId": "cddaea55-6fae-4e46-d44a-cda413b1ee75"
      },
      "source": [
        "from torch_geometric.data import Data\n",
        "\n",
        "edge_index = torch.tensor([[0, 1],\n",
        "                           #[1, 0],\n",
        "                           [1, 2],\n",
        "                           [2, 1]], dtype=torch.long)\n",
        "\n",
        "x = torch.tensor([[-1], [0], [1]], dtype=torch.float)\n",
        "\n",
        "data = Data(x=x, edge_index=edge_index.t().contiguous())\n",
        "print(data)\n",
        "print(data.num_edges)\n",
        "print(\"Is the graph undirected?\", data.is_undirected())\n",
        "print(\"Is the graph directed?\", data.is_directed())"
      ],
      "execution_count": null,
      "outputs": [
        {
          "output_type": "stream",
          "name": "stdout",
          "text": [
            "Data(x=[3, 1], edge_index=[2, 3])\n",
            "3\n",
            "Is the graph undirected? False\n",
            "Is the graph directed? True\n"
          ]
        }
      ]
    },
    {
      "cell_type": "markdown",
      "metadata": {
        "id": "RdSJh8qxq3jJ"
      },
      "source": [
        "여러가지 노드 레벨, 연결 레벨, 그래프 레벨의 속성을 저장하기 위해서 여러가지 유틸리터 함수들을 제공한다. \n",
        "\n",
        "----\n",
        "\n",
        "Besides holding a number of node-level, edge-level or graph-level attributes, Data provides a number of useful utility functions, e.g.:\n",
        "\n"
      ]
    },
    {
      "cell_type": "code",
      "metadata": {
        "id": "niDCKDZuqprq",
        "colab": {
          "base_uri": "https://localhost:8080/"
        },
        "outputId": "d147fd45-ef26-4319-8bcf-c34971439b3e"
      },
      "source": [
        "print(data.keys)"
      ],
      "execution_count": null,
      "outputs": [
        {
          "output_type": "stream",
          "name": "stdout",
          "text": [
            "['x', 'edge_index']\n"
          ]
        }
      ]
    },
    {
      "cell_type": "code",
      "metadata": {
        "id": "YnZ-UMr_rJsO",
        "colab": {
          "base_uri": "https://localhost:8080/"
        },
        "outputId": "15b5c439-7f38-41a0-fc0b-0491e6ad81dc"
      },
      "source": [
        "print(data['x']) # node feature를 출력하여라. 딕셔너리 사용과 유사. "
      ],
      "execution_count": null,
      "outputs": [
        {
          "output_type": "stream",
          "name": "stdout",
          "text": [
            "tensor([[-1.],\n",
            "        [ 0.],\n",
            "        [ 1.]])\n"
          ]
        }
      ]
    },
    {
      "cell_type": "markdown",
      "metadata": {
        "id": "3JNmVIhzrRwk"
      },
      "source": [
        "* 어떤 속성이 정의되어 있는지 확인. \n",
        "\n",
        "* To check what attributes are defined. "
      ]
    },
    {
      "cell_type": "code",
      "metadata": {
        "id": "zqQ_ZsWkrLcw",
        "colab": {
          "base_uri": "https://localhost:8080/"
        },
        "outputId": "45b2d804-0c01-4f7b-f05d-304f7d6292e7"
      },
      "source": [
        "for key, item in data:\n",
        "    print(\"{} found in data\".format(key))"
      ],
      "execution_count": null,
      "outputs": [
        {
          "output_type": "stream",
          "name": "stdout",
          "text": [
            "x found in data\n",
            "edge_index found in data\n"
          ]
        }
      ]
    },
    {
      "cell_type": "code",
      "metadata": {
        "id": "oi9v2f70rOy8",
        "colab": {
          "base_uri": "https://localhost:8080/"
        },
        "outputId": "1ee83f53-9d68-494f-d005-c63e9907a34c"
      },
      "source": [
        "'edge_attr' in data"
      ],
      "execution_count": null,
      "outputs": [
        {
          "output_type": "execute_result",
          "data": {
            "text/plain": [
              "False"
            ]
          },
          "metadata": {},
          "execution_count": 55
        }
      ]
    },
    {
      "cell_type": "code",
      "metadata": {
        "id": "BU24hMwdrQvt",
        "colab": {
          "base_uri": "https://localhost:8080/"
        },
        "outputId": "3f009cee-630e-46f7-8926-c896a7f3e675"
      },
      "source": [
        "data.num_nodes"
      ],
      "execution_count": null,
      "outputs": [
        {
          "output_type": "execute_result",
          "data": {
            "text/plain": [
              "3"
            ]
          },
          "metadata": {},
          "execution_count": 56
        }
      ]
    },
    {
      "cell_type": "code",
      "metadata": {
        "id": "RTTsXNpOrc0D",
        "colab": {
          "base_uri": "https://localhost:8080/"
        },
        "outputId": "ec34e828-e141-4bd2-ef4e-7248b5954bc4"
      },
      "source": [
        "data.num_edges"
      ],
      "execution_count": null,
      "outputs": [
        {
          "output_type": "execute_result",
          "data": {
            "text/plain": [
              "3"
            ]
          },
          "metadata": {},
          "execution_count": 57
        }
      ]
    },
    {
      "cell_type": "code",
      "metadata": {
        "id": "K-3SVKmOreFg",
        "colab": {
          "base_uri": "https://localhost:8080/"
        },
        "outputId": "0eb6887a-b9ad-485b-b021-ebce42635814"
      },
      "source": [
        "data.num_node_features"
      ],
      "execution_count": null,
      "outputs": [
        {
          "output_type": "execute_result",
          "data": {
            "text/plain": [
              "1"
            ]
          },
          "metadata": {},
          "execution_count": 58
        }
      ]
    },
    {
      "cell_type": "code",
      "metadata": {
        "id": "J0igfFWgrfVt",
        "colab": {
          "base_uri": "https://localhost:8080/"
        },
        "outputId": "7f2b26ad-ebe0-48e9-99e9-06bcb2486045"
      },
      "source": [
        "data.has_isolated_nodes()\n"
      ],
      "execution_count": null,
      "outputs": [
        {
          "output_type": "execute_result",
          "data": {
            "text/plain": [
              "True"
            ]
          },
          "metadata": {},
          "execution_count": 59
        }
      ]
    },
    {
      "cell_type": "code",
      "metadata": {
        "id": "ZZ8RXPMtrgZq",
        "colab": {
          "base_uri": "https://localhost:8080/"
        },
        "outputId": "8551e2a8-0e8d-44b0-8235-c107b4bca9a3"
      },
      "source": [
        "data.has_self_loops()"
      ],
      "execution_count": null,
      "outputs": [
        {
          "output_type": "execute_result",
          "data": {
            "text/plain": [
              "False"
            ]
          },
          "metadata": {},
          "execution_count": 60
        }
      ]
    },
    {
      "cell_type": "code",
      "metadata": {
        "id": "WDTuhq6JrhnR"
      },
      "source": [
        "# Transfer data object to GPU.\n",
        "device = torch.device('cuda')\n",
        "data = data.to(device)"
      ],
      "execution_count": null,
      "outputs": []
    },
    {
      "cell_type": "markdown",
      "metadata": {
        "id": "8IG1nZrEroJw"
      },
      "source": [
        "아래 페이지에서 PyG의 Data 클래스의 전체 내용을 확인할 수 있다. \n",
        "\n",
        "Ref: https://pytorch-geometric.readthedocs.io/en/latest/modules/data.html#torch_geometric.data.Data\n",
        "\n",
        "----\n",
        "\n",
        "You can find a complete list of all methods at https://pytorch-geometric.readthedocs.io/en/latest/modules/data.html#torch_geometric.data.Data\n",
        "\n",
        "\n"
      ]
    },
    {
      "cell_type": "markdown",
      "metadata": {
        "id": "wQ8O6jUL-bW2"
      },
      "source": [
        "# Common dataset\n",
        "----\n"
      ]
    },
    {
      "cell_type": "markdown",
      "metadata": {
        "id": "Vj_Kq5wt1Pp6"
      },
      "source": [
        "PyG는 다양한 공통적으로 사용되는 데이터셋을 이미 가지고 있습니다. \n",
        "\n",
        "예를 들어,  Planetoid datasets (Cora, Citeseer, Pubmed), QM7 and QM9 데이터셋, 그리고 FAUST, ModelNet10/40, ShapeNet 같은 3D point cloud 데이터들을 가지고 있습니다. \n",
        "\n",
        "이러한 데이터셋을 불러오는 것은 매우 직관적입니다. \n",
        "\n",
        "pytorch와 마찬가지로 Dataset을 자동으로 다운받고 처리될 수 있습니다. \n",
        "\n",
        "예를 들어서 ENZYMES 데이터셋(6개의 클래스로 분류될 수 있는 600개의 그래프)을 불러오기 위해서는 다음과 같이 할 수 있습니다. \n",
        "\n",
        "----"
      ]
    },
    {
      "cell_type": "markdown",
      "metadata": {
        "id": "QIuUSFSw-aix"
      },
      "source": [
        "PyG contains a large number of common benchmark datasets, e.g., all Planetoid datasets (Cora, Citeseer, Pubmed), all graph classification datasets from http://graphkernels.cs.tu-dortmund.de and their cleaned versions, the QM7 and QM9 dataset, and a handful of 3D mesh/point cloud datasets like FAUST, ModelNet10/40 and ShapeNet.\n",
        "\n",
        "Initializing a dataset is straightforward. An initialization of a dataset will automatically download its raw files and process them to the previously described Data format. E.g., to load the ENZYMES dataset (consisting of 600 graphs within 6 classes), type:"
      ]
    },
    {
      "cell_type": "code",
      "metadata": {
        "id": "p6WMMXyOrjow"
      },
      "source": [
        "from torch_geometric.datasets import TUDataset\n",
        "\n",
        "dataset = TUDataset(root='/tmp/ENZYMES', name='ENZYMES')"
      ],
      "execution_count": null,
      "outputs": []
    },
    {
      "cell_type": "code",
      "metadata": {
        "id": "J34xxLnU-f16",
        "colab": {
          "base_uri": "https://localhost:8080/"
        },
        "outputId": "b51e9757-71de-42b9-f346-62b47e07b484"
      },
      "source": [
        "print(dataset)"
      ],
      "execution_count": null,
      "outputs": [
        {
          "output_type": "stream",
          "name": "stdout",
          "text": [
            "ENZYMES(600)\n"
          ]
        }
      ]
    },
    {
      "cell_type": "code",
      "metadata": {
        "id": "tmvl4KiJ-jKi",
        "colab": {
          "base_uri": "https://localhost:8080/"
        },
        "outputId": "3bd72aa9-70a2-429b-d4c9-0fa4052add99"
      },
      "source": [
        "print(len(dataset))"
      ],
      "execution_count": null,
      "outputs": [
        {
          "output_type": "stream",
          "name": "stdout",
          "text": [
            "600\n"
          ]
        }
      ]
    },
    {
      "cell_type": "code",
      "metadata": {
        "id": "trAJmtFW-kKY",
        "colab": {
          "base_uri": "https://localhost:8080/"
        },
        "outputId": "3e962ed9-1d4b-461c-d487-37d3c7f23f5f"
      },
      "source": [
        "dataset.num_classes"
      ],
      "execution_count": null,
      "outputs": [
        {
          "output_type": "execute_result",
          "data": {
            "text/plain": [
              "6"
            ]
          },
          "metadata": {},
          "execution_count": 66
        }
      ]
    },
    {
      "cell_type": "code",
      "metadata": {
        "id": "xXrysqiY-n0d",
        "colab": {
          "base_uri": "https://localhost:8080/"
        },
        "outputId": "b50fdfac-45a1-4c33-84d7-940bf06c2da3"
      },
      "source": [
        "dataset.num_node_features"
      ],
      "execution_count": null,
      "outputs": [
        {
          "output_type": "execute_result",
          "data": {
            "text/plain": [
              "3"
            ]
          },
          "metadata": {},
          "execution_count": 67
        }
      ]
    },
    {
      "cell_type": "markdown",
      "metadata": {
        "id": "9Pk8w80Y2EW3"
      },
      "source": [
        "We now have access to all 600 graphs in the dataset:"
      ]
    },
    {
      "cell_type": "markdown",
      "metadata": {
        "id": "jHrn7nwY4lGn"
      },
      "source": [
        "* 첫번째 그래프를 가지고 와서 살펴보자. "
      ]
    },
    {
      "cell_type": "code",
      "metadata": {
        "id": "BcE6q8FO-z2i",
        "colab": {
          "base_uri": "https://localhost:8080/"
        },
        "outputId": "f0ffe4a2-371d-464c-81b3-2c2554ac3bbb"
      },
      "source": [
        "data = dataset[0]\n",
        "print(data)\n",
        "print(data.y)"
      ],
      "execution_count": null,
      "outputs": [
        {
          "output_type": "stream",
          "name": "stdout",
          "text": [
            "Data(edge_index=[2, 168], x=[37, 3], y=[1])\n",
            "tensor([5])\n"
          ]
        }
      ]
    },
    {
      "cell_type": "markdown",
      "metadata": {
        "id": "DPf_sMyy4rpb"
      },
      "source": [
        "* 첫번째 그래프는 37개의 노드, 168개의 edge로 구성되어 있다. "
      ]
    },
    {
      "cell_type": "code",
      "metadata": {
        "id": "nZglVhps2KFS",
        "colab": {
          "base_uri": "https://localhost:8080/"
        },
        "outputId": "d818397a-9a5b-47d0-f71e-292d191e61bd"
      },
      "source": [
        "print(data.is_undirected())"
      ],
      "execution_count": null,
      "outputs": [
        {
          "output_type": "stream",
          "name": "stdout",
          "text": [
            "True\n"
          ]
        }
      ]
    },
    {
      "cell_type": "markdown",
      "metadata": {
        "id": "kcy2eeIk2TIB"
      },
      "source": [
        "위의 결과로 부터 첫번째 그래프는 37개의 노드를 가지고 있고, 각 노드는 3개의 특성을 가지고 있는 것을 알 수 있습니다. \n",
        "\n",
        "그래프에는 168/2 = 84 개의 방향성이 없는 하나의 분류에 해당하는 그래프가 존재한다. \n",
        "\n",
        "그리고 데이터 자체가 하나의 그래프 레벨의 예측하고자 하는 속성을 가지고 있다. \n",
        "\n",
        "데이터셋은 슬라이싱을 이용해서 학습용셋과 테스트셋으로 나눌수 있다. "
      ]
    },
    {
      "cell_type": "markdown",
      "metadata": {
        "id": "4Qlvyvtq2PMV"
      },
      "source": [
        "We can see that the first graph in the dataset contains 37 nodes, each one having 3 features. \n",
        "\n",
        "There are 168/2 = 84 undirected edges and the graph is assigned to exactly one class. In addition, the data object is holding exactly one graph-level target.\n",
        "\n",
        "We can even use slices, long or bool tensors to split the dataset. E.g., to create a 90/10 train/test split, type:"
      ]
    },
    {
      "cell_type": "code",
      "metadata": {
        "id": "YKq0IM0h3vhg",
        "colab": {
          "base_uri": "https://localhost:8080/"
        },
        "outputId": "6b3165a4-e6cd-4db5-ccfe-660855828fa7"
      },
      "source": [
        "train_dataset = dataset[:540]\n",
        "print(train_dataset)"
      ],
      "execution_count": null,
      "outputs": [
        {
          "output_type": "stream",
          "name": "stdout",
          "text": [
            "ENZYMES(540)\n"
          ]
        }
      ]
    },
    {
      "cell_type": "code",
      "metadata": {
        "id": "UHIEbobs3v2A",
        "colab": {
          "base_uri": "https://localhost:8080/"
        },
        "outputId": "e6ad8244-42d5-43ef-a530-de23a32d1f9c"
      },
      "source": [
        "test_dataset = dataset[540:]\n",
        "print(test_dataset)"
      ],
      "execution_count": null,
      "outputs": [
        {
          "output_type": "stream",
          "name": "stdout",
          "text": [
            "ENZYMES(60)\n"
          ]
        }
      ]
    },
    {
      "cell_type": "markdown",
      "metadata": {
        "id": "DIAiW8vB32XM"
      },
      "source": [
        "데이터셋을 무작위로 섞고 싶다면 다음과 같이 할 수 있다. \n",
        "\n",
        "----\n",
        "\n",
        "If you are unsure whether the dataset is already shuffled before you split, you can randomly permutate it by running:\n",
        "\n"
      ]
    },
    {
      "cell_type": "code",
      "metadata": {
        "id": "CeoPHtxZ30hn"
      },
      "source": [
        "dataset = dataset.shuffle()"
      ],
      "execution_count": null,
      "outputs": []
    },
    {
      "cell_type": "markdown",
      "metadata": {
        "id": "n-XwupoR4DEZ"
      },
      "source": [
        "동일한 작업을 다음 코드를 이용해서도 할 수 있다. \n",
        "\n",
        "----\n",
        "\n",
        "\n",
        "This is equivalent of doing:\n",
        "\n"
      ]
    },
    {
      "cell_type": "code",
      "metadata": {
        "id": "3yOWqdJI3_wA",
        "colab": {
          "base_uri": "https://localhost:8080/"
        },
        "outputId": "fd77525b-d914-45d3-ee10-1df0d4d01498"
      },
      "source": [
        "perm = torch.randperm(len(dataset))\n",
        "print(perm) # 랜덤하게 섞인 index의 리스트. \n",
        "\n",
        "dataset = dataset[perm]\n",
        "print(dataset)"
      ],
      "execution_count": null,
      "outputs": [
        {
          "output_type": "stream",
          "name": "stdout",
          "text": [
            "tensor([424, 235, 191,  16,  19, 571, 353,  96, 158,  41, 369, 136, 253, 574,\n",
            "         85, 392, 548, 350, 441,  75, 443, 439, 468, 116, 373, 144,  48, 248,\n",
            "        496, 449, 209,  97, 515,  31, 285, 527, 154, 127, 526, 120, 216, 164,\n",
            "        387, 258, 489, 143, 229, 330, 263, 250,  73, 265, 114,  84, 473,  63,\n",
            "         88,   9, 411, 384, 245, 425, 145, 577, 122, 137,  45, 121, 375, 316,\n",
            "        287, 488, 480,  26, 221, 567, 218, 510, 162, 395, 206, 368, 197, 167,\n",
            "        494, 262, 354, 528,  87, 130, 241, 556, 535,  61, 518,   7,  29,  79,\n",
            "        477,  93, 379, 374, 185, 300, 561, 415, 198, 214, 597,  81, 563, 364,\n",
            "        456,  22, 436, 370,  27, 593, 503, 498, 125, 416, 380,  24, 587, 540,\n",
            "        430, 532, 288, 179,  66, 383,  18, 393, 385, 321, 590, 572, 348, 147,\n",
            "        128, 310, 156, 440, 309, 432, 386, 400, 201, 398, 207, 301, 169, 539,\n",
            "        339,   2,  42, 239, 566,  92, 255, 589, 402, 378,  67, 306,  34, 583,\n",
            "        172, 516, 482, 444, 219, 592, 506, 204, 132, 260, 138,  95, 366,  14,\n",
            "        181, 286, 458, 576,  60,  57, 471, 460, 141, 359, 544, 105, 294, 585,\n",
            "        155,  82, 217, 434, 340, 327, 266, 421, 596, 313, 173, 598, 317, 423,\n",
            "        490, 225, 407, 485, 372, 315, 461, 337, 305, 272, 236, 418,   1, 200,\n",
            "        152, 523,  99,  46, 406, 584, 397, 483, 211, 542,  86, 347, 190, 182,\n",
            "         10, 550, 224, 431, 486, 228,  64,  83,  91, 582, 111,  36,  35, 522,\n",
            "          4, 413, 437, 390, 220, 188, 119, 524, 254, 454, 186, 112, 388, 547,\n",
            "        553, 401, 187, 195, 177, 333, 297, 292, 467, 268, 338, 282, 562, 215,\n",
            "        363, 529, 202,  59, 277, 351,  53, 445, 455, 559,  55, 193, 175, 107,\n",
            "        552, 403, 124,  74, 447, 342, 352, 227, 519, 320, 586, 543,  37, 335,\n",
            "        328,   5, 534, 244, 377, 475, 123, 153, 472, 508, 357, 159, 538, 174,\n",
            "        521, 178,  11, 459, 396, 554, 270, 533, 511, 409, 487, 252, 278, 512,\n",
            "        249, 382, 362, 578, 514,  13, 135, 502, 466, 465,  52, 581, 469, 478,\n",
            "        176,  44, 275, 208, 332, 108, 419, 307, 453, 281, 429, 481, 394, 192,\n",
            "        110, 166, 210, 410, 165,  43, 569, 299, 476,  54, 355,  21,   8, 499,\n",
            "        520, 151, 324,   6,  17, 491, 433, 269, 408, 257, 545, 283, 271,  47,\n",
            "        405, 507, 134,  50, 274,  23, 312, 150, 276, 212, 326, 180, 196, 246,\n",
            "        599, 371, 457,  89, 234, 318, 103, 223, 273, 595, 451, 452, 133, 536,\n",
            "        325, 495, 391, 102, 194, 427, 564, 304,   3, 113, 555, 140,  12, 367,\n",
            "        568, 358, 541,  20,  62, 149, 298, 376, 426, 474, 323, 101, 331, 435,\n",
            "        591, 213, 291, 344, 231, 420, 289,  56, 104, 264,  39, 242, 579, 280,\n",
            "        546,  32,  30,  25, 513, 303, 356, 139, 230, 106, 531, 183, 319, 360,\n",
            "        336, 570, 551, 345, 308, 479,  33, 389, 259,  72, 530, 238, 170, 243,\n",
            "        549, 322, 189, 226, 184, 412,  40, 492, 404, 588, 560, 109, 500, 157,\n",
            "        343,  78,  77, 442, 517,  98, 205, 558, 126, 117, 501, 417, 290, 334,\n",
            "        237, 448, 484, 279, 160,  38, 311, 493, 575, 470, 537, 203, 463, 346,\n",
            "        594, 100, 464, 284, 168, 580,  70, 118, 365, 462, 293, 497, 247, 163,\n",
            "         90, 446,  28,  65, 115,  58, 361, 146, 314, 222, 199, 161, 399, 505,\n",
            "        267, 131, 450,  71, 438, 232, 349,  76, 240, 261, 302, 148, 296,  15,\n",
            "        256, 428, 171,  51, 525,  49, 422, 341, 295, 381, 142, 557, 414,  68,\n",
            "         69, 251, 573, 233, 509, 504, 329, 129,  94, 565,  80,   0])\n",
            "ENZYMES(600)\n"
          ]
        }
      ]
    },
    {
      "cell_type": "markdown",
      "metadata": {
        "id": "jN7aJydk4Qkv"
      },
      "source": [
        "다른 데이터셋을 받아봅시다. \n",
        "\n",
        "코라 데이터셋은 semi-supervised 그래프 노드 분류 테스트를 위해서 많이 사용되는 셋이다. \n",
        "\n",
        "-----\n",
        "\n",
        "Let’s try another one! Let’s download Cora, the standard benchmark dataset for semi-supervised graph node classification:\n",
        "\n"
      ]
    },
    {
      "cell_type": "code",
      "metadata": {
        "id": "EmAKwXBG4NdZ",
        "colab": {
          "base_uri": "https://localhost:8080/"
        },
        "outputId": "11540b63-f933-427b-970e-8e5534689b6d"
      },
      "source": [
        "from torch_geometric.datasets import Planetoid\n",
        "\n",
        "dataset = Planetoid(root='/tmp/Cora', name='Cora')\n",
        "print(dataset)"
      ],
      "execution_count": null,
      "outputs": [
        {
          "output_type": "stream",
          "name": "stdout",
          "text": [
            "Cora()\n"
          ]
        }
      ]
    },
    {
      "cell_type": "markdown",
      "metadata": {
        "id": "ADGA_SmF5g0z"
      },
      "source": [
        "* Cora 데이터의 경우, 그래프 1개로 이루어져 있다. "
      ]
    },
    {
      "cell_type": "code",
      "metadata": {
        "id": "z0DOoc4r4kDI",
        "colab": {
          "base_uri": "https://localhost:8080/"
        },
        "outputId": "5e6e0463-a737-4516-cc43-52982e3fc888"
      },
      "source": [
        "len(dataset)"
      ],
      "execution_count": null,
      "outputs": [
        {
          "output_type": "execute_result",
          "data": {
            "text/plain": [
              "1"
            ]
          },
          "metadata": {},
          "execution_count": 78
        }
      ]
    },
    {
      "cell_type": "markdown",
      "metadata": {
        "id": "3XXOeoW05wR1"
      },
      "source": [
        "* 각 노드가 7개의 클래스로 분류 될 수 있다. "
      ]
    },
    {
      "cell_type": "code",
      "metadata": {
        "id": "28Z7EhEL4m0Z",
        "colab": {
          "base_uri": "https://localhost:8080/"
        },
        "outputId": "6dfd7a83-58b2-4093-ccb0-363a9644905a"
      },
      "source": [
        "dataset.num_classes"
      ],
      "execution_count": null,
      "outputs": [
        {
          "output_type": "execute_result",
          "data": {
            "text/plain": [
              "7"
            ]
          },
          "metadata": {},
          "execution_count": 79
        }
      ]
    },
    {
      "cell_type": "markdown",
      "metadata": {
        "id": "yaop3nDG5zej"
      },
      "source": [
        "* 하나의 노드는 1433개의 feature를 가지고 있다. "
      ]
    },
    {
      "cell_type": "code",
      "metadata": {
        "id": "_n2pJRsk4n3r",
        "colab": {
          "base_uri": "https://localhost:8080/"
        },
        "outputId": "606f288b-ec75-4335-e89d-7ef51ca60a58"
      },
      "source": [
        "dataset.num_node_features"
      ],
      "execution_count": null,
      "outputs": [
        {
          "output_type": "execute_result",
          "data": {
            "text/plain": [
              "1433"
            ]
          },
          "metadata": {},
          "execution_count": 29
        }
      ]
    },
    {
      "cell_type": "markdown",
      "metadata": {
        "id": "m7KYrlpQ4sbj"
      },
      "source": [
        "Here, the dataset contains only a single, undirected citation graph:"
      ]
    },
    {
      "cell_type": "code",
      "metadata": {
        "id": "TfhYFZGs4qiY"
      },
      "source": [
        "data = dataset[0]"
      ],
      "execution_count": null,
      "outputs": []
    },
    {
      "cell_type": "code",
      "metadata": {
        "id": "V9o1sMdd4t56",
        "colab": {
          "base_uri": "https://localhost:8080/"
        },
        "outputId": "394f7a36-8079-4162-c94d-55ef68c8bca2"
      },
      "source": [
        "print(data)"
      ],
      "execution_count": null,
      "outputs": [
        {
          "output_type": "stream",
          "name": "stdout",
          "text": [
            "Data(x=[2708, 1433], edge_index=[2, 10556], y=[2708], train_mask=[2708], val_mask=[2708], test_mask=[2708])\n"
          ]
        }
      ]
    },
    {
      "cell_type": "code",
      "metadata": {
        "id": "Ls_PIrhF4vP1",
        "colab": {
          "base_uri": "https://localhost:8080/"
        },
        "outputId": "0f185e19-d1a3-4c2c-87e4-2d9cee3f40cd"
      },
      "source": [
        "data.is_undirected()"
      ],
      "execution_count": null,
      "outputs": [
        {
          "output_type": "execute_result",
          "data": {
            "text/plain": [
              "True"
            ]
          },
          "metadata": {},
          "execution_count": 82
        }
      ]
    },
    {
      "cell_type": "markdown",
      "metadata": {
        "id": "6D5IcP5QK3d4"
      },
      "source": [
        "* Train_mask, val_mask, test_mask는 각각 이미 지정되어 있는 training set, validation set, test set을 의미한다. \n",
        "* 각 셋에 해당하게 되면 True 값을 가지고 그렇지 않은 경우 False 값을 가진다. \n"
      ]
    },
    {
      "cell_type": "code",
      "metadata": {
        "id": "tirrg-tl4zST",
        "colab": {
          "base_uri": "https://localhost:8080/"
        },
        "outputId": "bb7ad799-18a5-4466-e8da-9ea570abe23f"
      },
      "source": [
        "data.train_mask.sum().item()"
      ],
      "execution_count": null,
      "outputs": [
        {
          "output_type": "execute_result",
          "data": {
            "text/plain": [
              "140"
            ]
          },
          "metadata": {},
          "execution_count": 83
        }
      ]
    },
    {
      "cell_type": "code",
      "metadata": {
        "id": "IunF4Q1D40Qa",
        "colab": {
          "base_uri": "https://localhost:8080/"
        },
        "outputId": "0ba979a7-8ead-4037-d828-a91f6ddd86f4"
      },
      "source": [
        "data.val_mask.sum().item()"
      ],
      "execution_count": null,
      "outputs": [
        {
          "output_type": "execute_result",
          "data": {
            "text/plain": [
              "500"
            ]
          },
          "metadata": {},
          "execution_count": 84
        }
      ]
    },
    {
      "cell_type": "code",
      "metadata": {
        "id": "eBVjlDcn41kw",
        "colab": {
          "base_uri": "https://localhost:8080/"
        },
        "outputId": "232cc683-81f5-418e-e340-849b918ba09e"
      },
      "source": [
        "data.test_mask.sum().item()"
      ],
      "execution_count": null,
      "outputs": [
        {
          "output_type": "execute_result",
          "data": {
            "text/plain": [
              "1000"
            ]
          },
          "metadata": {},
          "execution_count": 85
        }
      ]
    },
    {
      "cell_type": "markdown",
      "metadata": {
        "id": "OSiJIGV45IX1"
      },
      "source": [
        "## Chemical datasets in PyG\n",
        "\n",
        "----\n",
        "\n",
        "PyG에는 다양한 화학 관련된 데이터셋들이 이미 존재한다. \n",
        "\n",
        "예를 들어, 전체 상업적으로 판매되는 분자의 데이터가 들어있는 ZINC, 양자 역학적 계산 결과가 들어있는 QM7b, QM9 등의 데이터셋이 존재한다. \n",
        "\n",
        "전체 데이터셋의 리스트는 다음 링크에서 찾을 수 있다. \n",
        "\n",
        "Ref: https://pytorch-geometric.readthedocs.io/en/latest/modules/datasets.html\n",
        "\n",
        "----\n",
        "\n",
        "PyG includes many pre-compiled chemistry-related datasets. \n",
        "\n",
        "For example, ZINC dataset contains all commercially available molecules. \n",
        "QM7b and QM9 datasets have quantum mechanical properties of molecules. \n",
        "\n",
        "The complete list of datasets can be found in https://pytorch-geometric.readthedocs.io/en/latest/modules/datasets.html\n",
        "\n",
        "\n"
      ]
    },
    {
      "cell_type": "markdown",
      "metadata": {
        "id": "gCZbM7xGIRZ1"
      },
      "source": [
        "### QM9 데이터셋\n",
        "----\n",
        "\n",
        "여기에서는 간단히 QM9 데이터셋의 구성을 알아보도록 합시다. \n",
        "\n",
        "H, C, O, N, F 로만 구성되어 있는 분자들의 양자 계산에서 얻을 수 있는 물성 계산 값을 가지고 있다. \n",
        "\n",
        "QM9 데이터셋은 19가지의 양자 역학으로 계산된 분자 물성 값을 가지고 있다. \n",
        "\n",
        "Ref: https://pytorch-geometric.readthedocs.io/en/latest/modules/datasets.html#torch_geometric.datasets.QM9\n",
        "\n",
        "Source code: https://pytorch-geometric.readthedocs.io/en/latest/_modules/torch_geometric/datasets/qm9.html"
      ]
    },
    {
      "cell_type": "code",
      "metadata": {
        "id": "BseK-d1L42bz"
      },
      "source": [
        "from torch_geometric.datasets import QM9"
      ],
      "execution_count": null,
      "outputs": []
    },
    {
      "cell_type": "code",
      "metadata": {
        "id": "fppIZI7LGbmu",
        "colab": {
          "base_uri": "https://localhost:8080/"
        },
        "outputId": "26528af6-98cb-4dad-9130-98aa2b7fbc77"
      },
      "source": [
        "dataset = QM9(root='./QM9')\n",
        "print(\"Dataset Name:\", dataset)"
      ],
      "execution_count": null,
      "outputs": [
        {
          "output_type": "stream",
          "name": "stdout",
          "text": [
            "Dataset Name: QM9(130831)\n"
          ]
        }
      ]
    },
    {
      "cell_type": "markdown",
      "metadata": {
        "id": "pdhsUNVpIjeL"
      },
      "source": [
        "* 전체 데이터의 개수는 130831 개임을 알 수 있다. "
      ]
    },
    {
      "cell_type": "code",
      "metadata": {
        "id": "LRD_9v0SGl4i",
        "colab": {
          "base_uri": "https://localhost:8080/"
        },
        "outputId": "ac484faa-d79c-46a8-a3c4-dd2331803189"
      },
      "source": [
        "dataset.num_classes"
      ],
      "execution_count": null,
      "outputs": [
        {
          "output_type": "execute_result",
          "data": {
            "text/plain": [
              "19"
            ]
          },
          "metadata": {},
          "execution_count": 88
        }
      ]
    },
    {
      "cell_type": "markdown",
      "metadata": {
        "id": "f9FIozZdIoIM"
      },
      "source": [
        "* 19개의 예측을 위한 분자 물성 테이터를 가지고 있다. \n",
        "* 19가지의 물성은 https://pytorch-geometric.readthedocs.io/en/latest/modules/datasets.html#torch_geometric.datasets.QM9 문서에서 찾을 수 있다. "
      ]
    },
    {
      "cell_type": "code",
      "metadata": {
        "id": "Pfhy1qy5H4CU",
        "colab": {
          "base_uri": "https://localhost:8080/"
        },
        "outputId": "01b90f8f-d88a-42ba-8c5e-49dcb83a7613"
      },
      "source": [
        "dataset.num_node_features"
      ],
      "execution_count": null,
      "outputs": [
        {
          "output_type": "execute_result",
          "data": {
            "text/plain": [
              "11"
            ]
          },
          "metadata": {},
          "execution_count": 89
        }
      ]
    },
    {
      "cell_type": "markdown",
      "metadata": {
        "id": "0eWXEVqtIryZ"
      },
      "source": [
        "* 각 노드 (원자)의 특성은 11개로 주어진다. \n",
        "* atom types = {'H': 0, 'C': 1, 'N': 2, 'O': 3, 'F': 4}\n",
        "* 추가적으로 사용되는 원자의 특성은 다음과 같다: atomic_number, aromatic, sp, sp2, sp3, num_hs\n",
        "* one_hot_encoding: 5 차원 + 원자의 특성 6차원 = 전체 11차원\n",
        "\n"
      ]
    },
    {
      "cell_type": "code",
      "metadata": {
        "id": "1HnQA4uJH5qD",
        "colab": {
          "base_uri": "https://localhost:8080/"
        },
        "outputId": "54f4bedf-b2a6-40d2-c44b-f84273a9abda"
      },
      "source": [
        "data.is_undirected()"
      ],
      "execution_count": null,
      "outputs": [
        {
          "output_type": "execute_result",
          "data": {
            "text/plain": [
              "True"
            ]
          },
          "metadata": {},
          "execution_count": 90
        }
      ]
    },
    {
      "cell_type": "code",
      "metadata": {
        "id": "8cOkB67nIJST",
        "colab": {
          "base_uri": "https://localhost:8080/"
        },
        "outputId": "b1158e2b-dc8f-47b9-f255-7d2c80bfe371"
      },
      "source": [
        "for key, item in data:\n",
        "    print(\"{} found in data\".format(key))"
      ],
      "execution_count": null,
      "outputs": [
        {
          "output_type": "stream",
          "name": "stdout",
          "text": [
            "x found in data\n",
            "edge_index found in data\n",
            "y found in data\n",
            "train_mask found in data\n",
            "val_mask found in data\n",
            "test_mask found in data\n"
          ]
        }
      ]
    },
    {
      "cell_type": "markdown",
      "metadata": {
        "id": "kFvwB6TK8iJ0"
      },
      "source": [
        "* 첫번째 데이터 (분자) 하나만 살펴보겠습니다. "
      ]
    },
    {
      "cell_type": "code",
      "metadata": {
        "id": "49ikFpPUH7lT"
      },
      "source": [
        "data = dataset[0]"
      ],
      "execution_count": null,
      "outputs": []
    },
    {
      "cell_type": "code",
      "metadata": {
        "id": "lYNJ7BAgIC3h",
        "colab": {
          "base_uri": "https://localhost:8080/"
        },
        "outputId": "c4a2eb09-80a7-4b9b-998a-680009187ece"
      },
      "source": [
        "data.y"
      ],
      "execution_count": null,
      "outputs": [
        {
          "output_type": "execute_result",
          "data": {
            "text/plain": [
              "tensor([[    0.0000,    13.2100,   -10.5499,     3.1865,    13.7363,    35.3641,\n",
              "             1.2177, -1101.4878, -1101.4098, -1101.3840, -1102.0229,     6.4690,\n",
              "           -17.1722,   -17.2868,   -17.3897,   -16.1519,   157.7118,   157.7100,\n",
              "           157.7070]])"
            ]
          },
          "metadata": {},
          "execution_count": 93
        }
      ]
    },
    {
      "cell_type": "code",
      "metadata": {
        "id": "3afdvYIS8y9d",
        "outputId": "f6745577-be4e-490c-c52b-57dd628c5203",
        "colab": {
          "base_uri": "https://localhost:8080/"
        }
      },
      "source": [
        "print(data)"
      ],
      "execution_count": null,
      "outputs": [
        {
          "output_type": "stream",
          "name": "stdout",
          "text": [
            "Data(x=[5, 11], edge_index=[2, 8], edge_attr=[8, 4], y=[1, 19], pos=[5, 3], idx=[1], name='gdb_1', z=[5])\n"
          ]
        }
      ]
    },
    {
      "cell_type": "code",
      "metadata": {
        "id": "uz-cBnLbINjv",
        "colab": {
          "base_uri": "https://localhost:8080/"
        },
        "outputId": "a499138b-6514-468c-bf24-5fd896ff0c10"
      },
      "source": [
        "data.x"
      ],
      "execution_count": null,
      "outputs": [
        {
          "output_type": "execute_result",
          "data": {
            "text/plain": [
              "tensor([[0., 1., 0., 0., 0., 6., 0., 0., 0., 0., 4.],\n",
              "        [1., 0., 0., 0., 0., 1., 0., 0., 0., 0., 0.],\n",
              "        [1., 0., 0., 0., 0., 1., 0., 0., 0., 0., 0.],\n",
              "        [1., 0., 0., 0., 0., 1., 0., 0., 0., 0., 0.],\n",
              "        [1., 0., 0., 0., 0., 1., 0., 0., 0., 0., 0.]])"
            ]
          },
          "metadata": {},
          "execution_count": 94
        }
      ]
    },
    {
      "cell_type": "code",
      "metadata": {
        "id": "sgbhUHhl8xS9"
      },
      "source": [],
      "execution_count": null,
      "outputs": []
    }
  ]
}